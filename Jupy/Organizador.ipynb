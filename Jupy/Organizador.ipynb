{
 "cells": [
  {
   "cell_type": "markdown",
   "id": "769405e7",
   "metadata": {},
   "source": [
    "## Organizador de Tarefas\n",
    "[x]Pegar o arquivo das tarefas\n",
    "[x]Passar 1 a uma perguntando se é pra remover\n",
    "[x]? pesquisar tarefa no webmaster ? \n",
    "[ ]Retornar um df com as atualizações escolhidas"
   ]
  },
  {
   "cell_type": "code",
   "execution_count": 1,
   "id": "5c417cfb",
   "metadata": {},
   "outputs": [],
   "source": [
    "import pandas as pd\n",
    "arquivo = 'tarefas.xlsx'\n",
    "df = pd.read_excel(arquivo)"
   ]
  },
  {
   "cell_type": "code",
   "execution_count": 2,
   "id": "425321db",
   "metadata": {},
   "outputs": [],
   "source": [
    "## importações\n",
    "from selenium import webdriver\n",
    "from selenium.webdriver.common.keys import Keys\n",
    "from selenium.webdriver.common.by import By\n",
    "from selenium.webdriver.support.ui import Select \n",
    "from selenium.webdriver.common.alert import Alert\n",
    "from selenium.webdriver.support.ui import WebDriverWait\n",
    "from selenium.webdriver.support import expected_conditions as EC\n",
    "import time"
   ]
  },
  {
   "cell_type": "code",
   "execution_count": 3,
   "id": "ab8a4cf5",
   "metadata": {},
   "outputs": [],
   "source": [
    "def pesquisar(tarefa):\n",
    "    try:\n",
    "        navegador.find_element('xpath', '/html/body/ngb-modal-window/div/div/app-view-task/div[1]/button').click()\n",
    "    except:\n",
    "        pass\n",
    "    input_id = navegador.find_element('xpath', \"//*[@formcontrolname='id']\")\n",
    "    input_id.clear()\n",
    "    input_id.send_keys(str(tarefa))\n",
    "    navegador.find_element('xpath', '//*[@id=\"main-content\"]/app-task/div/app-task-filters/div/div/div/form/div/button[1]').click()\n",
    "    time.sleep(3)\n",
    "    navegador.find_element('xpath', \"//*[@title='Visualizar Tarefa']\").click()\n",
    "    "
   ]
  },
  {
   "cell_type": "code",
   "execution_count": 4,
   "id": "2a2e0c2a",
   "metadata": {},
   "outputs": [],
   "source": [
    "## Login na Shooting\n",
    "navegador = webdriver.Chrome()\n",
    "navegador.get(\"https://app.shootinghouse.com.br/administrativo/tarefas\")\n",
    "time.sleep(5)\n",
    "if navegador.current_url == \"https://app.shootinghouse.com.br/login\":\n",
    "    login = navegador.find_element('xpath', '//*[@id=\"mat-input-1\"]')\n",
    "    senha = navegador.find_element('xpath','//*[@id=\"input-password\"]')\n",
    "    botao_lg = navegador.find_element('xpath', '//*[@id=\"login-container\"]/div/form-login/div/form/button')\n",
    "    login.send_keys(\"10796732965\")\n",
    "    senha.send_keys(\"asdpoi@@2022@@$\")\n",
    "    botao_lg.click()"
   ]
  },
  {
   "cell_type": "code",
   "execution_count": 7,
   "id": "1cc0e1b3",
   "metadata": {},
   "outputs": [
    {
     "ename": "KeyError",
     "evalue": "0",
     "output_type": "error",
     "traceback": [
      "\u001b[1;31m---------------------------------------------------------------------------\u001b[0m",
      "\u001b[1;31mValueError\u001b[0m                                Traceback (most recent call last)",
      "File \u001b[1;32m~\\AppData\\Local\\Programs\\Python\\Python311\\Lib\\site-packages\\pandas\\core\\indexes\\range.py:391\u001b[0m, in \u001b[0;36mRangeIndex.get_loc\u001b[1;34m(self, key, method, tolerance)\u001b[0m\n\u001b[0;32m    390\u001b[0m \u001b[38;5;28;01mtry\u001b[39;00m:\n\u001b[1;32m--> 391\u001b[0m     \u001b[38;5;28;01mreturn\u001b[39;00m \u001b[38;5;28mself\u001b[39m\u001b[38;5;241m.\u001b[39m_range\u001b[38;5;241m.\u001b[39mindex(new_key)\n\u001b[0;32m    392\u001b[0m \u001b[38;5;28;01mexcept\u001b[39;00m \u001b[38;5;167;01mValueError\u001b[39;00m \u001b[38;5;28;01mas\u001b[39;00m err:\n",
      "\u001b[1;31mValueError\u001b[0m: 0 is not in range",
      "\nThe above exception was the direct cause of the following exception:\n",
      "\u001b[1;31mKeyError\u001b[0m                                  Traceback (most recent call last)",
      "Cell \u001b[1;32mIn[7], line 3\u001b[0m\n\u001b[0;32m      1\u001b[0m index \u001b[38;5;241m=\u001b[39m \u001b[38;5;241m0\u001b[39m\n\u001b[0;32m      2\u001b[0m \u001b[38;5;28;01mfor\u001b[39;00m i \u001b[38;5;129;01min\u001b[39;00m df:\n\u001b[1;32m----> 3\u001b[0m     \u001b[38;5;28mprint\u001b[39m(\u001b[43mdf\u001b[49m\u001b[43m[\u001b[49m\u001b[38;5;124;43m'\u001b[39;49m\u001b[38;5;124;43mid\u001b[39;49m\u001b[38;5;124;43m'\u001b[39;49m\u001b[43m]\u001b[49m\u001b[43m[\u001b[49m\u001b[43mindex\u001b[49m\u001b[43m]\u001b[49m,df[\u001b[38;5;124m'\u001b[39m\u001b[38;5;124mtitulo\u001b[39m\u001b[38;5;124m'\u001b[39m][index], df[\u001b[38;5;124m'\u001b[39m\u001b[38;5;124mstatus\u001b[39m\u001b[38;5;124m'\u001b[39m][index])\n\u001b[0;32m      4\u001b[0m     teste \u001b[38;5;241m=\u001b[39m \u001b[38;5;28minput\u001b[39m(\u001b[38;5;124m\"\u001b[39m\u001b[38;5;124mR -> Deletar, P -> Pesquisar\u001b[39m\u001b[38;5;124m\"\u001b[39m)\n\u001b[0;32m      5\u001b[0m     teste \u001b[38;5;241m=\u001b[39m teste\u001b[38;5;241m.\u001b[39mupper()\n",
      "File \u001b[1;32m~\\AppData\\Local\\Programs\\Python\\Python311\\Lib\\site-packages\\pandas\\core\\series.py:981\u001b[0m, in \u001b[0;36mSeries.__getitem__\u001b[1;34m(self, key)\u001b[0m\n\u001b[0;32m    978\u001b[0m     \u001b[38;5;28;01mreturn\u001b[39;00m \u001b[38;5;28mself\u001b[39m\u001b[38;5;241m.\u001b[39m_values[key]\n\u001b[0;32m    980\u001b[0m \u001b[38;5;28;01melif\u001b[39;00m key_is_scalar:\n\u001b[1;32m--> 981\u001b[0m     \u001b[38;5;28;01mreturn\u001b[39;00m \u001b[38;5;28;43mself\u001b[39;49m\u001b[38;5;241;43m.\u001b[39;49m\u001b[43m_get_value\u001b[49m\u001b[43m(\u001b[49m\u001b[43mkey\u001b[49m\u001b[43m)\u001b[49m\n\u001b[0;32m    983\u001b[0m \u001b[38;5;28;01mif\u001b[39;00m is_hashable(key):\n\u001b[0;32m    984\u001b[0m     \u001b[38;5;66;03m# Otherwise index.get_value will raise InvalidIndexError\u001b[39;00m\n\u001b[0;32m    985\u001b[0m     \u001b[38;5;28;01mtry\u001b[39;00m:\n\u001b[0;32m    986\u001b[0m         \u001b[38;5;66;03m# For labels that don't resolve as scalars like tuples and frozensets\u001b[39;00m\n",
      "File \u001b[1;32m~\\AppData\\Local\\Programs\\Python\\Python311\\Lib\\site-packages\\pandas\\core\\series.py:1089\u001b[0m, in \u001b[0;36mSeries._get_value\u001b[1;34m(self, label, takeable)\u001b[0m\n\u001b[0;32m   1086\u001b[0m     \u001b[38;5;28;01mreturn\u001b[39;00m \u001b[38;5;28mself\u001b[39m\u001b[38;5;241m.\u001b[39m_values[label]\n\u001b[0;32m   1088\u001b[0m \u001b[38;5;66;03m# Similar to Index.get_value, but we do not fall back to positional\u001b[39;00m\n\u001b[1;32m-> 1089\u001b[0m loc \u001b[38;5;241m=\u001b[39m \u001b[38;5;28;43mself\u001b[39;49m\u001b[38;5;241;43m.\u001b[39;49m\u001b[43mindex\u001b[49m\u001b[38;5;241;43m.\u001b[39;49m\u001b[43mget_loc\u001b[49m\u001b[43m(\u001b[49m\u001b[43mlabel\u001b[49m\u001b[43m)\u001b[49m\n\u001b[0;32m   1090\u001b[0m \u001b[38;5;28;01mreturn\u001b[39;00m \u001b[38;5;28mself\u001b[39m\u001b[38;5;241m.\u001b[39mindex\u001b[38;5;241m.\u001b[39m_get_values_for_loc(\u001b[38;5;28mself\u001b[39m, loc, label)\n",
      "File \u001b[1;32m~\\AppData\\Local\\Programs\\Python\\Python311\\Lib\\site-packages\\pandas\\core\\indexes\\range.py:393\u001b[0m, in \u001b[0;36mRangeIndex.get_loc\u001b[1;34m(self, key, method, tolerance)\u001b[0m\n\u001b[0;32m    391\u001b[0m         \u001b[38;5;28;01mreturn\u001b[39;00m \u001b[38;5;28mself\u001b[39m\u001b[38;5;241m.\u001b[39m_range\u001b[38;5;241m.\u001b[39mindex(new_key)\n\u001b[0;32m    392\u001b[0m     \u001b[38;5;28;01mexcept\u001b[39;00m \u001b[38;5;167;01mValueError\u001b[39;00m \u001b[38;5;28;01mas\u001b[39;00m err:\n\u001b[1;32m--> 393\u001b[0m         \u001b[38;5;28;01mraise\u001b[39;00m \u001b[38;5;167;01mKeyError\u001b[39;00m(key) \u001b[38;5;28;01mfrom\u001b[39;00m \u001b[38;5;21;01merr\u001b[39;00m\n\u001b[0;32m    394\u001b[0m \u001b[38;5;28mself\u001b[39m\u001b[38;5;241m.\u001b[39m_check_indexing_error(key)\n\u001b[0;32m    395\u001b[0m \u001b[38;5;28;01mraise\u001b[39;00m \u001b[38;5;167;01mKeyError\u001b[39;00m(key)\n",
      "\u001b[1;31mKeyError\u001b[0m: 0"
     ]
    }
   ],
   "source": [
    "index = 0\n",
    "for i in df:\n",
    "    print(df['id'][index],df['titulo'][index], df['status'][index])\n",
    "    teste = input(\"R -> Deletar, P -> Pesquisar\")\n",
    "    teste = teste.upper()\n",
    "    if teste == \"R\":\n",
    "        df.drop(index, inplace=True)\n",
    "    elif teste == \"P\":\n",
    "        pesquisar(df['id'][index])\n",
    "        teste = input(\"Deletar -> R \")\n",
    "        if teste.upper() == 'R':\n",
    "            df.drop(index, inplace=True)\n",
    "    index +=1"
   ]
  },
  {
   "cell_type": "code",
   "execution_count": 5,
   "id": "8d16ceca",
   "metadata": {},
   "outputs": [
    {
     "data": {
      "text/html": [
       "<div>\n",
       "<style scoped>\n",
       "    .dataframe tbody tr th:only-of-type {\n",
       "        vertical-align: middle;\n",
       "    }\n",
       "\n",
       "    .dataframe tbody tr th {\n",
       "        vertical-align: top;\n",
       "    }\n",
       "\n",
       "    .dataframe thead th {\n",
       "        text-align: right;\n",
       "    }\n",
       "</style>\n",
       "<table border=\"1\" class=\"dataframe\">\n",
       "  <thead>\n",
       "    <tr style=\"text-align: right;\">\n",
       "      <th></th>\n",
       "      <th>id</th>\n",
       "      <th>titulo</th>\n",
       "      <th>status</th>\n",
       "    </tr>\n",
       "  </thead>\n",
       "  <tbody>\n",
       "    <tr>\n",
       "      <th>0</th>\n",
       "      <td>0001</td>\n",
       "      <td>TARAFAS PAGINA 1</td>\n",
       "      <td>25 tarefas</td>\n",
       "    </tr>\n",
       "    <tr>\n",
       "      <th>1</th>\n",
       "      <td>15573</td>\n",
       "      <td>IMPERIOCLUBEDETIRO.COM.BR - IMPORTAÇÃO PLANILH...</td>\n",
       "      <td>AGUARDANDO SPRINT</td>\n",
       "    </tr>\n",
       "    <tr>\n",
       "      <th>2</th>\n",
       "      <td>15571</td>\n",
       "      <td>AQUILA - FILTRO CADASTRAL \"MENSALIDADE DE E AT...</td>\n",
       "      <td>AGUARDANDO SPRINT</td>\n",
       "    </tr>\n",
       "    <tr>\n",
       "      <th>3</th>\n",
       "      <td>15570</td>\n",
       "      <td>CBTE - AC THIAGO - CRIAR NOVO BOTÃO NA HOMEPAGE</td>\n",
       "      <td>AGUARDANDO SPRINT</td>\n",
       "    </tr>\n",
       "    <tr>\n",
       "      <th>4</th>\n",
       "      <td>15567</td>\n",
       "      <td>TIROCARIOCA.COM.BR - FAZER AJUSTE NA DATA DE M...</td>\n",
       "      <td>AGUARDANDO CONCLUSÃO</td>\n",
       "    </tr>\n",
       "    <tr>\n",
       "      <th>...</th>\n",
       "      <td>...</td>\n",
       "      <td>...</td>\n",
       "      <td>...</td>\n",
       "    </tr>\n",
       "    <tr>\n",
       "      <th>217</th>\n",
       "      <td>9498</td>\n",
       "      <td>ISTEMA CLIENTE NOVO - REFORMULAÇÃO NO ATENDIME...</td>\n",
       "      <td>AGUARDANDO SPRINT</td>\n",
       "    </tr>\n",
       "    <tr>\n",
       "      <th>218</th>\n",
       "      <td>8878</td>\n",
       "      <td>TTF - SHOOTING SCORE - PROGRAMAR MODALIDADE 3GUN</td>\n",
       "      <td>AGUARDANDO SPRINT</td>\n",
       "    </tr>\n",
       "    <tr>\n",
       "      <th>219</th>\n",
       "      <td>8472</td>\n",
       "      <td>HOOTINGSCORE - TIFF DE AREA</td>\n",
       "      <td>AGUARDANDO SPRINT</td>\n",
       "    </tr>\n",
       "    <tr>\n",
       "      <th>220</th>\n",
       "      <td>8332</td>\n",
       "      <td>JUI.CTKCLUBEDETIRO.COM.BR - NOTIFICAÇÃO DA LOJA</td>\n",
       "      <td>AGUARDANDO CONCLUSÃO</td>\n",
       "    </tr>\n",
       "    <tr>\n",
       "      <th>221</th>\n",
       "      <td>--</td>\n",
       "      <td>------------------------</td>\n",
       "      <td>--------------</td>\n",
       "    </tr>\n",
       "  </tbody>\n",
       "</table>\n",
       "<p>222 rows × 3 columns</p>\n",
       "</div>"
      ],
      "text/plain": [
       "        id                                             titulo  \\\n",
       "0     0001                                   TARAFAS PAGINA 1   \n",
       "1    15573  IMPERIOCLUBEDETIRO.COM.BR - IMPORTAÇÃO PLANILH...   \n",
       "2    15571  AQUILA - FILTRO CADASTRAL \"MENSALIDADE DE E AT...   \n",
       "3    15570    CBTE - AC THIAGO - CRIAR NOVO BOTÃO NA HOMEPAGE   \n",
       "4    15567  TIROCARIOCA.COM.BR - FAZER AJUSTE NA DATA DE M...   \n",
       "..     ...                                                ...   \n",
       "217  9498   ISTEMA CLIENTE NOVO - REFORMULAÇÃO NO ATENDIME...   \n",
       "218  8878    TTF - SHOOTING SCORE - PROGRAMAR MODALIDADE 3GUN   \n",
       "219  8472                         HOOTINGSCORE - TIFF DE AREA   \n",
       "220  8332     JUI.CTKCLUBEDETIRO.COM.BR - NOTIFICAÇÃO DA LOJA   \n",
       "221     --                           ------------------------   \n",
       "\n",
       "                   status  \n",
       "0              25 tarefas  \n",
       "1       AGUARDANDO SPRINT  \n",
       "2       AGUARDANDO SPRINT  \n",
       "3       AGUARDANDO SPRINT  \n",
       "4    AGUARDANDO CONCLUSÃO  \n",
       "..                    ...  \n",
       "217     AGUARDANDO SPRINT  \n",
       "218     AGUARDANDO SPRINT  \n",
       "219     AGUARDANDO SPRINT  \n",
       "220  AGUARDANDO CONCLUSÃO  \n",
       "221        --------------  \n",
       "\n",
       "[222 rows x 3 columns]"
      ]
     },
     "execution_count": 5,
     "metadata": {},
     "output_type": "execute_result"
    }
   ],
   "source": [
    "df"
   ]
  },
  {
   "cell_type": "code",
   "execution_count": 21,
   "id": "3da197df",
   "metadata": {},
   "outputs": [],
   "source": [
    "\n"
   ]
  },
  {
   "cell_type": "code",
   "execution_count": 53,
   "id": "f0522c29",
   "metadata": {},
   "outputs": [
    {
     "ename": "WebDriverException",
     "evalue": "Message: disconnected: unable to connect to renderer\n  (failed to check if window was closed: disconnected: unable to connect to renderer)\n  (Session info: chrome=109.0.5414.75)\nStacktrace:\nBacktrace:\n\t(No symbol) [0x004AF243]\n\t(No symbol) [0x00437FD1]\n\t(No symbol) [0x0032D04D]\n\t(No symbol) [0x0031D3F8]\n\t(No symbol) [0x0031D1F8]\n\t(No symbol) [0x0032E5C3]\n\t(No symbol) [0x0038C1D8]\n\t(No symbol) [0x00378386]\n\t(No symbol) [0x0035163C]\n\t(No symbol) [0x0035269D]\n\tGetHandleVerifier [0x00749A22+2655074]\n\tGetHandleVerifier [0x0073CA24+2601828]\n\tGetHandleVerifier [0x00558C0A+619850]\n\tGetHandleVerifier [0x00557830+614768]\n\t(No symbol) [0x004405FC]\n\t(No symbol) [0x00445968]\n\t(No symbol) [0x00445A55]\n\t(No symbol) [0x0045051B]\n\tBaseThreadInitThunk [0x764D00F9+25]\n\tRtlGetAppContainerNamedObjectPath [0x77E57BBE+286]\n\tRtlGetAppContainerNamedObjectPath [0x77E57B8E+238]\n",
     "output_type": "error",
     "traceback": [
      "\u001b[1;31m---------------------------------------------------------------------------\u001b[0m",
      "\u001b[1;31mWebDriverException\u001b[0m                        Traceback (most recent call last)",
      "Cell \u001b[1;32mIn[53], line 1\u001b[0m\n\u001b[1;32m----> 1\u001b[0m \u001b[43mpesquisar\u001b[49m\u001b[43m(\u001b[49m\u001b[38;5;241;43m1\u001b[39;49m\u001b[43m)\u001b[49m\n",
      "Cell \u001b[1;32mIn[48], line 6\u001b[0m, in \u001b[0;36mpesquisar\u001b[1;34m(tarefa)\u001b[0m\n\u001b[0;32m      4\u001b[0m \u001b[38;5;28;01mexcept\u001b[39;00m:\n\u001b[0;32m      5\u001b[0m     \u001b[38;5;28;01mpass\u001b[39;00m\n\u001b[1;32m----> 6\u001b[0m input_id \u001b[38;5;241m=\u001b[39m \u001b[43mnavegador\u001b[49m\u001b[38;5;241;43m.\u001b[39;49m\u001b[43mfind_element\u001b[49m\u001b[43m(\u001b[49m\u001b[38;5;124;43m'\u001b[39;49m\u001b[38;5;124;43mxpath\u001b[39;49m\u001b[38;5;124;43m'\u001b[39;49m\u001b[43m,\u001b[49m\u001b[43m \u001b[49m\u001b[38;5;124;43m\"\u001b[39;49m\u001b[38;5;124;43m//*[@formcontrolname=\u001b[39;49m\u001b[38;5;124;43m'\u001b[39;49m\u001b[38;5;124;43mid\u001b[39;49m\u001b[38;5;124;43m'\u001b[39;49m\u001b[38;5;124;43m]\u001b[39;49m\u001b[38;5;124;43m\"\u001b[39;49m\u001b[43m)\u001b[49m\n\u001b[0;32m      7\u001b[0m input_id\u001b[38;5;241m.\u001b[39mclear()\n\u001b[0;32m      8\u001b[0m input_id\u001b[38;5;241m.\u001b[39msend_keys(\u001b[38;5;28mstr\u001b[39m(tarefa))\n",
      "File \u001b[1;32m~\\AppData\\Local\\Programs\\Python\\Python311\\Lib\\site-packages\\selenium\\webdriver\\remote\\webdriver.py:861\u001b[0m, in \u001b[0;36mWebDriver.find_element\u001b[1;34m(self, by, value)\u001b[0m\n\u001b[0;32m    858\u001b[0m     by \u001b[38;5;241m=\u001b[39m By\u001b[38;5;241m.\u001b[39mCSS_SELECTOR\n\u001b[0;32m    859\u001b[0m     value \u001b[38;5;241m=\u001b[39m \u001b[38;5;124m'\u001b[39m\u001b[38;5;124m[name=\u001b[39m\u001b[38;5;124m\"\u001b[39m\u001b[38;5;132;01m%s\u001b[39;00m\u001b[38;5;124m\"\u001b[39m\u001b[38;5;124m]\u001b[39m\u001b[38;5;124m'\u001b[39m \u001b[38;5;241m%\u001b[39m value\n\u001b[1;32m--> 861\u001b[0m \u001b[38;5;28;01mreturn\u001b[39;00m \u001b[38;5;28;43mself\u001b[39;49m\u001b[38;5;241;43m.\u001b[39;49m\u001b[43mexecute\u001b[49m\u001b[43m(\u001b[49m\u001b[43mCommand\u001b[49m\u001b[38;5;241;43m.\u001b[39;49m\u001b[43mFIND_ELEMENT\u001b[49m\u001b[43m,\u001b[49m\u001b[43m \u001b[49m\u001b[43m{\u001b[49m\u001b[38;5;124;43m\"\u001b[39;49m\u001b[38;5;124;43musing\u001b[39;49m\u001b[38;5;124;43m\"\u001b[39;49m\u001b[43m:\u001b[49m\u001b[43m \u001b[49m\u001b[43mby\u001b[49m\u001b[43m,\u001b[49m\u001b[43m \u001b[49m\u001b[38;5;124;43m\"\u001b[39;49m\u001b[38;5;124;43mvalue\u001b[39;49m\u001b[38;5;124;43m\"\u001b[39;49m\u001b[43m:\u001b[49m\u001b[43m \u001b[49m\u001b[43mvalue\u001b[49m\u001b[43m}\u001b[49m\u001b[43m)\u001b[49m[\u001b[38;5;124m\"\u001b[39m\u001b[38;5;124mvalue\u001b[39m\u001b[38;5;124m\"\u001b[39m]\n",
      "File \u001b[1;32m~\\AppData\\Local\\Programs\\Python\\Python311\\Lib\\site-packages\\selenium\\webdriver\\remote\\webdriver.py:444\u001b[0m, in \u001b[0;36mWebDriver.execute\u001b[1;34m(self, driver_command, params)\u001b[0m\n\u001b[0;32m    442\u001b[0m response \u001b[38;5;241m=\u001b[39m \u001b[38;5;28mself\u001b[39m\u001b[38;5;241m.\u001b[39mcommand_executor\u001b[38;5;241m.\u001b[39mexecute(driver_command, params)\n\u001b[0;32m    443\u001b[0m \u001b[38;5;28;01mif\u001b[39;00m response:\n\u001b[1;32m--> 444\u001b[0m     \u001b[38;5;28;43mself\u001b[39;49m\u001b[38;5;241;43m.\u001b[39;49m\u001b[43merror_handler\u001b[49m\u001b[38;5;241;43m.\u001b[39;49m\u001b[43mcheck_response\u001b[49m\u001b[43m(\u001b[49m\u001b[43mresponse\u001b[49m\u001b[43m)\u001b[49m\n\u001b[0;32m    445\u001b[0m     response[\u001b[38;5;124m\"\u001b[39m\u001b[38;5;124mvalue\u001b[39m\u001b[38;5;124m\"\u001b[39m] \u001b[38;5;241m=\u001b[39m \u001b[38;5;28mself\u001b[39m\u001b[38;5;241m.\u001b[39m_unwrap_value(response\u001b[38;5;241m.\u001b[39mget(\u001b[38;5;124m\"\u001b[39m\u001b[38;5;124mvalue\u001b[39m\u001b[38;5;124m\"\u001b[39m, \u001b[38;5;28;01mNone\u001b[39;00m))\n\u001b[0;32m    446\u001b[0m     \u001b[38;5;28;01mreturn\u001b[39;00m response\n",
      "File \u001b[1;32m~\\AppData\\Local\\Programs\\Python\\Python311\\Lib\\site-packages\\selenium\\webdriver\\remote\\errorhandler.py:249\u001b[0m, in \u001b[0;36mErrorHandler.check_response\u001b[1;34m(self, response)\u001b[0m\n\u001b[0;32m    247\u001b[0m         alert_text \u001b[38;5;241m=\u001b[39m value[\u001b[38;5;124m\"\u001b[39m\u001b[38;5;124malert\u001b[39m\u001b[38;5;124m\"\u001b[39m]\u001b[38;5;241m.\u001b[39mget(\u001b[38;5;124m\"\u001b[39m\u001b[38;5;124mtext\u001b[39m\u001b[38;5;124m\"\u001b[39m)\n\u001b[0;32m    248\u001b[0m     \u001b[38;5;28;01mraise\u001b[39;00m exception_class(message, screen, stacktrace, alert_text)  \u001b[38;5;66;03m# type: ignore[call-arg]  # mypy is not smart enough here\u001b[39;00m\n\u001b[1;32m--> 249\u001b[0m \u001b[38;5;28;01mraise\u001b[39;00m exception_class(message, screen, stacktrace)\n",
      "\u001b[1;31mWebDriverException\u001b[0m: Message: disconnected: unable to connect to renderer\n  (failed to check if window was closed: disconnected: unable to connect to renderer)\n  (Session info: chrome=109.0.5414.75)\nStacktrace:\nBacktrace:\n\t(No symbol) [0x004AF243]\n\t(No symbol) [0x00437FD1]\n\t(No symbol) [0x0032D04D]\n\t(No symbol) [0x0031D3F8]\n\t(No symbol) [0x0031D1F8]\n\t(No symbol) [0x0032E5C3]\n\t(No symbol) [0x0038C1D8]\n\t(No symbol) [0x00378386]\n\t(No symbol) [0x0035163C]\n\t(No symbol) [0x0035269D]\n\tGetHandleVerifier [0x00749A22+2655074]\n\tGetHandleVerifier [0x0073CA24+2601828]\n\tGetHandleVerifier [0x00558C0A+619850]\n\tGetHandleVerifier [0x00557830+614768]\n\t(No symbol) [0x004405FC]\n\t(No symbol) [0x00445968]\n\t(No symbol) [0x00445A55]\n\t(No symbol) [0x0045051B]\n\tBaseThreadInitThunk [0x764D00F9+25]\n\tRtlGetAppContainerNamedObjectPath [0x77E57BBE+286]\n\tRtlGetAppContainerNamedObjectPath [0x77E57B8E+238]\n"
     ]
    }
   ],
   "source": [
    "pesquisar(1)"
   ]
  },
  {
   "cell_type": "code",
   "execution_count": 39,
   "id": "938155a0",
   "metadata": {},
   "outputs": [],
   "source": []
  },
  {
   "cell_type": "code",
   "execution_count": 40,
   "id": "4da4da5b",
   "metadata": {},
   "outputs": [],
   "source": [
    "idd.send_keys('SS')"
   ]
  },
  {
   "cell_type": "code",
   "execution_count": null,
   "id": "429bbb5d",
   "metadata": {},
   "outputs": [],
   "source": []
  }
 ],
 "metadata": {
  "kernelspec": {
   "display_name": "Python 3 (ipykernel)",
   "language": "python",
   "name": "python3"
  },
  "language_info": {
   "codemirror_mode": {
    "name": "ipython",
    "version": 3
   },
   "file_extension": ".py",
   "mimetype": "text/x-python",
   "name": "python",
   "nbconvert_exporter": "python",
   "pygments_lexer": "ipython3",
   "version": "3.11.0"
  }
 },
 "nbformat": 4,
 "nbformat_minor": 5
}
