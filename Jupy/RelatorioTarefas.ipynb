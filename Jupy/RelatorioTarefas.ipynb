{
 "cells": [
  {
   "cell_type": "markdown",
   "id": "b2d99cf3",
   "metadata": {},
   "source": [
    "**Codigo que pega as Tarefas da sprint e salva em um csv** \n",
    "Necessita de supervisão para logar devido a *captcha e entrar no *WebAdmin"
   ]
  },
  {
   "cell_type": "code",
   "execution_count": 1,
   "id": "7029c93b",
   "metadata": {},
   "outputs": [],
   "source": [
    "## importações\n",
    "from selenium import webdriver\n",
    "from selenium.webdriver.common.keys import Keys\n",
    "from selenium.webdriver.common.by import By\n",
    "from selenium.webdriver.support.ui import Select \n",
    "from selenium.webdriver.common.alert import Alert\n",
    "from selenium.webdriver.support.ui import WebDriverWait\n",
    "from selenium.webdriver.support import expected_conditions as EC\n",
    "import time"
   ]
  },
  {
   "cell_type": "code",
   "execution_count": 27,
   "id": "f821c96c",
   "metadata": {},
   "outputs": [],
   "source": [
    "## Login na Shooting\n",
    "navegador = webdriver.Chrome()\n",
    "navegador.get(\"https://beta.shootinghouse.com.br/login\")\n",
    "login = navegador.find_element('xpath', '//*[@id=\"mat-input-1\"]')\n",
    "senha = navegador.find_element('xpath','//*[@id=\"input-password\"]')\n",
    "botao_lg = navegador.find_element('xpath', '//*[@id=\"login-container\"]/div/form-login/div/form/button')\n",
    "login.send_keys(\"10796732965\")\n",
    "senha.send_keys(\"asdpoi@@2022@@$\")\n",
    "botao_lg.click()"
   ]
  },
  {
   "cell_type": "code",
   "execution_count": 28,
   "id": "4bec90de",
   "metadata": {},
   "outputs": [],
   "source": [
    "## Indo para Tarefas em forma de click\n",
    "navegador.find_element('xpath', '//*[@id=\"menu-180\"]').click()\n",
    "navegador.find_element('xpath', '//*[@id=\"menu-182\"]').click() #indo até tarefas"
   ]
  },
  {
   "cell_type": "code",
   "execution_count": 29,
   "id": "6c18b109",
   "metadata": {},
   "outputs": [
    {
     "ename": "NoSuchElementException",
     "evalue": "Message: no such element: Unable to locate element: {\"method\":\"xpath\",\"selector\":\"//*[@title=\"#158 - 2023/02 DE 16/01/2023 ATÉ 27/01/2023\"]\"}\n  (Session info: chrome=109.0.5414.75)\nStacktrace:\nBacktrace:\n\t(No symbol) [0x008CF243]\n\t(No symbol) [0x00857FD1]\n\t(No symbol) [0x0074D04D]\n\t(No symbol) [0x0077C0B0]\n\t(No symbol) [0x0077C22B]\n\t(No symbol) [0x007AE612]\n\t(No symbol) [0x007985D4]\n\t(No symbol) [0x007AC9EB]\n\t(No symbol) [0x00798386]\n\t(No symbol) [0x0077163C]\n\t(No symbol) [0x0077269D]\n\tGetHandleVerifier [0x00B69A22+2655074]\n\tGetHandleVerifier [0x00B5CA24+2601828]\n\tGetHandleVerifier [0x00978C0A+619850]\n\tGetHandleVerifier [0x00977830+614768]\n\t(No symbol) [0x008605FC]\n\t(No symbol) [0x00865968]\n\t(No symbol) [0x00865A55]\n\t(No symbol) [0x0087051B]\n\tBaseThreadInitThunk [0x764D00F9+25]\n\tRtlGetAppContainerNamedObjectPath [0x77E57BBE+286]\n\tRtlGetAppContainerNamedObjectPath [0x77E57B8E+238]\n",
     "output_type": "error",
     "traceback": [
      "\u001b[1;31m---------------------------------------------------------------------------\u001b[0m",
      "\u001b[1;31mNoSuchElementException\u001b[0m                    Traceback (most recent call last)",
      "Cell \u001b[1;32mIn[29], line 5\u001b[0m\n\u001b[0;32m      3\u001b[0m tipo\u001b[38;5;241m.\u001b[39mclick()\n\u001b[0;32m      4\u001b[0m sprint \u001b[38;5;241m=\u001b[39m  \u001b[38;5;124m\"\u001b[39m\u001b[38;5;124m#158 - 2023/02 DE 16/01/2023 ATÉ 27/01/2023\u001b[39m\u001b[38;5;124m\"\u001b[39m \u001b[38;5;66;03m#<<<<<<<<<<<<<<<<<<<<<<<<<<<<<<<<<<<<<<<\u001b[39;00m\n\u001b[1;32m----> 5\u001b[0m lista \u001b[38;5;241m=\u001b[39m \u001b[43mnavegador\u001b[49m\u001b[38;5;241;43m.\u001b[39;49m\u001b[43mfind_element\u001b[49m\u001b[43m(\u001b[49m\u001b[38;5;124;43m'\u001b[39;49m\u001b[38;5;124;43mxpath\u001b[39;49m\u001b[38;5;124;43m'\u001b[39;49m\u001b[43m,\u001b[49m\u001b[43m \u001b[49m\u001b[38;5;124;43mf\u001b[39;49m\u001b[38;5;124;43m'\u001b[39;49m\u001b[38;5;124;43m//*[@title=\u001b[39;49m\u001b[38;5;124;43m\"\u001b[39;49m\u001b[38;5;132;43;01m{\u001b[39;49;00m\u001b[43msprint\u001b[49m\u001b[38;5;132;43;01m}\u001b[39;49;00m\u001b[38;5;124;43m\"\u001b[39;49m\u001b[38;5;124;43m]\u001b[39;49m\u001b[38;5;124;43m'\u001b[39;49m\u001b[43m)\u001b[49m\n\u001b[0;32m      6\u001b[0m lista\u001b[38;5;241m.\u001b[39mclick()\n\u001b[0;32m      7\u001b[0m navegador\u001b[38;5;241m.\u001b[39mfind_element(\u001b[38;5;124m'\u001b[39m\u001b[38;5;124mxpath\u001b[39m\u001b[38;5;124m'\u001b[39m, \u001b[38;5;124m'\u001b[39m\u001b[38;5;124m//*[@id=\u001b[39m\u001b[38;5;124m\"\u001b[39m\u001b[38;5;124mmain-content\u001b[39m\u001b[38;5;124m\"\u001b[39m\u001b[38;5;124m]/app-task/div/app-task-filters/div/div/div/form/div/button[1]\u001b[39m\u001b[38;5;124m'\u001b[39m)\u001b[38;5;241m.\u001b[39mclick()\n",
      "File \u001b[1;32m~\\AppData\\Local\\Programs\\Python\\Python311\\Lib\\site-packages\\selenium\\webdriver\\remote\\webdriver.py:861\u001b[0m, in \u001b[0;36mWebDriver.find_element\u001b[1;34m(self, by, value)\u001b[0m\n\u001b[0;32m    858\u001b[0m     by \u001b[38;5;241m=\u001b[39m By\u001b[38;5;241m.\u001b[39mCSS_SELECTOR\n\u001b[0;32m    859\u001b[0m     value \u001b[38;5;241m=\u001b[39m \u001b[38;5;124m'\u001b[39m\u001b[38;5;124m[name=\u001b[39m\u001b[38;5;124m\"\u001b[39m\u001b[38;5;132;01m%s\u001b[39;00m\u001b[38;5;124m\"\u001b[39m\u001b[38;5;124m]\u001b[39m\u001b[38;5;124m'\u001b[39m \u001b[38;5;241m%\u001b[39m value\n\u001b[1;32m--> 861\u001b[0m \u001b[38;5;28;01mreturn\u001b[39;00m \u001b[38;5;28;43mself\u001b[39;49m\u001b[38;5;241;43m.\u001b[39;49m\u001b[43mexecute\u001b[49m\u001b[43m(\u001b[49m\u001b[43mCommand\u001b[49m\u001b[38;5;241;43m.\u001b[39;49m\u001b[43mFIND_ELEMENT\u001b[49m\u001b[43m,\u001b[49m\u001b[43m \u001b[49m\u001b[43m{\u001b[49m\u001b[38;5;124;43m\"\u001b[39;49m\u001b[38;5;124;43musing\u001b[39;49m\u001b[38;5;124;43m\"\u001b[39;49m\u001b[43m:\u001b[49m\u001b[43m \u001b[49m\u001b[43mby\u001b[49m\u001b[43m,\u001b[49m\u001b[43m \u001b[49m\u001b[38;5;124;43m\"\u001b[39;49m\u001b[38;5;124;43mvalue\u001b[39;49m\u001b[38;5;124;43m\"\u001b[39;49m\u001b[43m:\u001b[49m\u001b[43m \u001b[49m\u001b[43mvalue\u001b[49m\u001b[43m}\u001b[49m\u001b[43m)\u001b[49m[\u001b[38;5;124m\"\u001b[39m\u001b[38;5;124mvalue\u001b[39m\u001b[38;5;124m\"\u001b[39m]\n",
      "File \u001b[1;32m~\\AppData\\Local\\Programs\\Python\\Python311\\Lib\\site-packages\\selenium\\webdriver\\remote\\webdriver.py:444\u001b[0m, in \u001b[0;36mWebDriver.execute\u001b[1;34m(self, driver_command, params)\u001b[0m\n\u001b[0;32m    442\u001b[0m response \u001b[38;5;241m=\u001b[39m \u001b[38;5;28mself\u001b[39m\u001b[38;5;241m.\u001b[39mcommand_executor\u001b[38;5;241m.\u001b[39mexecute(driver_command, params)\n\u001b[0;32m    443\u001b[0m \u001b[38;5;28;01mif\u001b[39;00m response:\n\u001b[1;32m--> 444\u001b[0m     \u001b[38;5;28;43mself\u001b[39;49m\u001b[38;5;241;43m.\u001b[39;49m\u001b[43merror_handler\u001b[49m\u001b[38;5;241;43m.\u001b[39;49m\u001b[43mcheck_response\u001b[49m\u001b[43m(\u001b[49m\u001b[43mresponse\u001b[49m\u001b[43m)\u001b[49m\n\u001b[0;32m    445\u001b[0m     response[\u001b[38;5;124m\"\u001b[39m\u001b[38;5;124mvalue\u001b[39m\u001b[38;5;124m\"\u001b[39m] \u001b[38;5;241m=\u001b[39m \u001b[38;5;28mself\u001b[39m\u001b[38;5;241m.\u001b[39m_unwrap_value(response\u001b[38;5;241m.\u001b[39mget(\u001b[38;5;124m\"\u001b[39m\u001b[38;5;124mvalue\u001b[39m\u001b[38;5;124m\"\u001b[39m, \u001b[38;5;28;01mNone\u001b[39;00m))\n\u001b[0;32m    446\u001b[0m     \u001b[38;5;28;01mreturn\u001b[39;00m response\n",
      "File \u001b[1;32m~\\AppData\\Local\\Programs\\Python\\Python311\\Lib\\site-packages\\selenium\\webdriver\\remote\\errorhandler.py:249\u001b[0m, in \u001b[0;36mErrorHandler.check_response\u001b[1;34m(self, response)\u001b[0m\n\u001b[0;32m    247\u001b[0m         alert_text \u001b[38;5;241m=\u001b[39m value[\u001b[38;5;124m\"\u001b[39m\u001b[38;5;124malert\u001b[39m\u001b[38;5;124m\"\u001b[39m]\u001b[38;5;241m.\u001b[39mget(\u001b[38;5;124m\"\u001b[39m\u001b[38;5;124mtext\u001b[39m\u001b[38;5;124m\"\u001b[39m)\n\u001b[0;32m    248\u001b[0m     \u001b[38;5;28;01mraise\u001b[39;00m exception_class(message, screen, stacktrace, alert_text)  \u001b[38;5;66;03m# type: ignore[call-arg]  # mypy is not smart enough here\u001b[39;00m\n\u001b[1;32m--> 249\u001b[0m \u001b[38;5;28;01mraise\u001b[39;00m exception_class(message, screen, stacktrace)\n",
      "\u001b[1;31mNoSuchElementException\u001b[0m: Message: no such element: Unable to locate element: {\"method\":\"xpath\",\"selector\":\"//*[@title=\"#158 - 2023/02 DE 16/01/2023 ATÉ 27/01/2023\"]\"}\n  (Session info: chrome=109.0.5414.75)\nStacktrace:\nBacktrace:\n\t(No symbol) [0x008CF243]\n\t(No symbol) [0x00857FD1]\n\t(No symbol) [0x0074D04D]\n\t(No symbol) [0x0077C0B0]\n\t(No symbol) [0x0077C22B]\n\t(No symbol) [0x007AE612]\n\t(No symbol) [0x007985D4]\n\t(No symbol) [0x007AC9EB]\n\t(No symbol) [0x00798386]\n\t(No symbol) [0x0077163C]\n\t(No symbol) [0x0077269D]\n\tGetHandleVerifier [0x00B69A22+2655074]\n\tGetHandleVerifier [0x00B5CA24+2601828]\n\tGetHandleVerifier [0x00978C0A+619850]\n\tGetHandleVerifier [0x00977830+614768]\n\t(No symbol) [0x008605FC]\n\t(No symbol) [0x00865968]\n\t(No symbol) [0x00865A55]\n\t(No symbol) [0x0087051B]\n\tBaseThreadInitThunk [0x764D00F9+25]\n\tRtlGetAppContainerNamedObjectPath [0x77E57BBE+286]\n\tRtlGetAppContainerNamedObjectPath [0x77E57B8E+238]\n"
     ]
    }
   ],
   "source": [
    "## filtra para a sprint\n",
    "tipo = navegador.find_element('xpath', '//*[@id=\"mat-select-value-7\"]')\n",
    "tipo.click()\n",
    "sprint =  \"#158 - 2023/02 DE 16/01/2023 ATÉ 27/01/2023\" #<<<<<<<<<<<<<<<<<<<<<<<<<<<<<<<<<<<<<<<\n",
    "lista = navegador.find_element('xpath', f'//*[@title=\"{sprint}\"]')\n",
    "lista.click()\n",
    "navegador.find_element('xpath', '//*[@id=\"main-content\"]/app-task/div/app-task-filters/div/div/div/form/div/button[1]').click()"
   ]
  },
  {
   "cell_type": "code",
   "execution_count": 30,
   "id": "bbe2f822",
   "metadata": {},
   "outputs": [],
   "source": [
    "## Pega quantas tarefas e quantas paginas tem \n",
    "tarefas = navegador.find_element('xpath', '//*[@id=\"main-content\"]/app-task/div/div/div[2]/h5')\n",
    "paginas = navegador.find_element('xpath', '//*[@id=\"main-content\"]/app-task/div/div/div[3]/app-pagination/div/ngb-pagination/ul')\n",
    "quantas = int(paginas.text.replace('\\n', '').replace('»', '')[-1])"
   ]
  },
  {
   "cell_type": "code",
   "execution_count": 31,
   "id": "50a7f331",
   "metadata": {},
   "outputs": [
    {
     "data": {
      "text/plain": [
       "8"
      ]
     },
     "execution_count": 31,
     "metadata": {},
     "output_type": "execute_result"
    }
   ],
   "source": [
    "quantas"
   ]
  },
  {
   "cell_type": "code",
   "execution_count": 11,
   "id": "4609f304",
   "metadata": {},
   "outputs": [],
   "source": [
    "def pegar_tarefas(lista): \n",
    "    ## Essa função é para pegar as tarefas da pagina atual, retornando elas em uma lista de lista\n",
    "    ## Cada item na lista é uma lista com id, titulo e status da tarefa\n",
    "    data = []\n",
    "    organizar = False\n",
    "    contador = 0\n",
    "    quantas = int(len(lista) / 5)\n",
    "    print(f'{quantas} tarefas')\n",
    "    while organizar == False:\n",
    "        #             id             titulo               status \n",
    "        #print(\"Tarefa: \" + lista[contador][:5])\n",
    "        orga = [lista[contador][:5], lista[contador][6:], lista[contador+1].replace('        ', '')]\n",
    "        data.append(orga)\n",
    "        contador += 5\n",
    "        if contador == len(lista):\n",
    "            organizar = True\n",
    "            print(\"fim das tarefas da pagina\")\n",
    "            print('-------------------------')\n",
    "            print(data[-1])\n",
    "            \n",
    "    return data"
   ]
  },
  {
   "cell_type": "code",
   "execution_count": 53,
   "id": "7c9b98b7",
   "metadata": {},
   "outputs": [],
   "source": [
    "def navegar(quantas):\n",
    "    \n",
    "    ## essa funcão serve para caminhar pelas paginas e chamar a funcao que pega as tarefas\n",
    "    ## Também organiza todas as tarefas em uma unica lista\n",
    "    data = []\n",
    "    quantas = quantas + 2  ## Esses valores são devido ao indice do numerodor de paginas \n",
    "    print(quantas)\n",
    "    pg_atual = 3           ## que o valor 1 começa em 3\n",
    "    ### desbugar #### \n",
    "    if quantas > 7:  # clica na 5 e volta pra 1 bug\n",
    "        pr = '//*[@id=\"main-content\"]/app-task/div/div/div[3]/app-pagination/div/ngb-pagination/ul/li[7]/a'\n",
    "        navegador.find_element('xpath', pr).click()\n",
    "        time.sleep(5)\n",
    "        pr = '//*[@id=\"main-content\"]/app-task/div/div/div[3]/app-pagination/div/ngb-pagination/ul/li[3]/a'\n",
    "        navegador.find_element('xpath', pr).click()\n",
    "        time.sleep(7)\n",
    "    while pg_atual <= quantas:\n",
    "        print(f\"Pegando Tarefas da Pagina: {pg_atual-2}\")\n",
    "        tarefas = navegador.find_element(\"xpath\", '//*[@id=\"main-content\"]/app-task/div/div/div[3]/table/tbody')\n",
    "        listatf = tarefas.text.split('\\n')\n",
    "        tf = pegar_tarefas(listatf)\n",
    "        pg_atual += 1\n",
    "        for i in tf:\n",
    "            data.append(i)  ## adiciona os itens da lista decebida para a principal\n",
    "        if pg_atual <= quantas:  ## verifica a pagina pra ir ou não pra proxima\n",
    "            print('indo para pagina: ', pg_atual-2)\n",
    "            print('indice: ', pg_atual)\n",
    "            if pg_atual > 9:\n",
    "                indice = 9\n",
    "            else:\n",
    "                indice = pg_atual\n",
    "            proxima = '//*[@id=\"main-content\"]/app-task/div/div/div[3]/app-pagination/div/ngb-pagination/ul/li[' + str(indice) + ']'\n",
    "            botao = navegador.find_element('xpath', proxima)\n",
    "            #print(proxima)\n",
    "            botao.click()\n",
    "            time.sleep(7)\n",
    "    return data"
   ]
  },
  {
   "cell_type": "code",
   "execution_count": 49,
   "id": "719c6ebf",
   "metadata": {},
   "outputs": [
    {
     "ename": "ElementClickInterceptedException",
     "evalue": "Message: element click intercepted: Element <a tabindex=\"-1\" aria-disabled=\"true\" class=\"page-link ng-star-inserted\">...</a> is not clickable at point (863, 598). Other element would receive the click: <li class=\"page-item disabled ng-star-inserted\" style=\"\">...</li>\n  (Session info: chrome=109.0.5414.75)\nStacktrace:\nBacktrace:\n\t(No symbol) [0x008CF243]\n\t(No symbol) [0x00857FD1]\n\t(No symbol) [0x0074D04D]\n\t(No symbol) [0x007828B9]\n\t(No symbol) [0x007808CC]\n\t(No symbol) [0x0077E4CB]\n\t(No symbol) [0x0077D164]\n\t(No symbol) [0x007732A6]\n\t(No symbol) [0x0079858C]\n\t(No symbol) [0x00772BFF]\n\t(No symbol) [0x00798804]\n\t(No symbol) [0x007AC9EB]\n\t(No symbol) [0x00798386]\n\t(No symbol) [0x0077163C]\n\t(No symbol) [0x0077269D]\n\tGetHandleVerifier [0x00B69A22+2655074]\n\tGetHandleVerifier [0x00B5CA24+2601828]\n\tGetHandleVerifier [0x00978C0A+619850]\n\tGetHandleVerifier [0x00977830+614768]\n\t(No symbol) [0x008605FC]\n\t(No symbol) [0x00865968]\n\t(No symbol) [0x00865A55]\n\t(No symbol) [0x0087051B]\n\tBaseThreadInitThunk [0x764D00F9+25]\n\tRtlGetAppContainerNamedObjectPath [0x77E57BBE+286]\n\tRtlGetAppContainerNamedObjectPath [0x77E57B8E+238]\n",
     "output_type": "error",
     "traceback": [
      "\u001b[1;31m---------------------------------------------------------------------------\u001b[0m",
      "\u001b[1;31mElementClickInterceptedException\u001b[0m          Traceback (most recent call last)",
      "Cell \u001b[1;32mIn[49], line 2\u001b[0m\n\u001b[0;32m      1\u001b[0m pr \u001b[38;5;241m=\u001b[39m \u001b[38;5;124m'\u001b[39m\u001b[38;5;124m//*[@id=\u001b[39m\u001b[38;5;124m\"\u001b[39m\u001b[38;5;124mmain-content\u001b[39m\u001b[38;5;124m\"\u001b[39m\u001b[38;5;124m]/app-task/div/div/div[3]/app-pagination/div/ngb-pagination/ul/li[8]/a\u001b[39m\u001b[38;5;124m'\u001b[39m\n\u001b[1;32m----> 2\u001b[0m \u001b[43mnavegador\u001b[49m\u001b[38;5;241;43m.\u001b[39;49m\u001b[43mfind_element\u001b[49m\u001b[43m(\u001b[49m\u001b[38;5;124;43m'\u001b[39;49m\u001b[38;5;124;43mxpath\u001b[39;49m\u001b[38;5;124;43m'\u001b[39;49m\u001b[43m,\u001b[49m\u001b[43m \u001b[49m\u001b[43mpr\u001b[49m\u001b[43m)\u001b[49m\u001b[38;5;241;43m.\u001b[39;49m\u001b[43mclick\u001b[49m\u001b[43m(\u001b[49m\u001b[43m)\u001b[49m\n",
      "File \u001b[1;32m~\\AppData\\Local\\Programs\\Python\\Python311\\Lib\\site-packages\\selenium\\webdriver\\remote\\webelement.py:93\u001b[0m, in \u001b[0;36mWebElement.click\u001b[1;34m(self)\u001b[0m\n\u001b[0;32m     91\u001b[0m \u001b[38;5;28;01mdef\u001b[39;00m \u001b[38;5;21mclick\u001b[39m(\u001b[38;5;28mself\u001b[39m) \u001b[38;5;241m-\u001b[39m\u001b[38;5;241m>\u001b[39m \u001b[38;5;28;01mNone\u001b[39;00m:\n\u001b[0;32m     92\u001b[0m     \u001b[38;5;124;03m\"\"\"Clicks the element.\"\"\"\u001b[39;00m\n\u001b[1;32m---> 93\u001b[0m     \u001b[38;5;28;43mself\u001b[39;49m\u001b[38;5;241;43m.\u001b[39;49m\u001b[43m_execute\u001b[49m\u001b[43m(\u001b[49m\u001b[43mCommand\u001b[49m\u001b[38;5;241;43m.\u001b[39;49m\u001b[43mCLICK_ELEMENT\u001b[49m\u001b[43m)\u001b[49m\n",
      "File \u001b[1;32m~\\AppData\\Local\\Programs\\Python\\Python311\\Lib\\site-packages\\selenium\\webdriver\\remote\\webelement.py:410\u001b[0m, in \u001b[0;36mWebElement._execute\u001b[1;34m(self, command, params)\u001b[0m\n\u001b[0;32m    408\u001b[0m     params \u001b[38;5;241m=\u001b[39m {}\n\u001b[0;32m    409\u001b[0m params[\u001b[38;5;124m\"\u001b[39m\u001b[38;5;124mid\u001b[39m\u001b[38;5;124m\"\u001b[39m] \u001b[38;5;241m=\u001b[39m \u001b[38;5;28mself\u001b[39m\u001b[38;5;241m.\u001b[39m_id\n\u001b[1;32m--> 410\u001b[0m \u001b[38;5;28;01mreturn\u001b[39;00m \u001b[38;5;28;43mself\u001b[39;49m\u001b[38;5;241;43m.\u001b[39;49m\u001b[43m_parent\u001b[49m\u001b[38;5;241;43m.\u001b[39;49m\u001b[43mexecute\u001b[49m\u001b[43m(\u001b[49m\u001b[43mcommand\u001b[49m\u001b[43m,\u001b[49m\u001b[43m \u001b[49m\u001b[43mparams\u001b[49m\u001b[43m)\u001b[49m\n",
      "File \u001b[1;32m~\\AppData\\Local\\Programs\\Python\\Python311\\Lib\\site-packages\\selenium\\webdriver\\remote\\webdriver.py:444\u001b[0m, in \u001b[0;36mWebDriver.execute\u001b[1;34m(self, driver_command, params)\u001b[0m\n\u001b[0;32m    442\u001b[0m response \u001b[38;5;241m=\u001b[39m \u001b[38;5;28mself\u001b[39m\u001b[38;5;241m.\u001b[39mcommand_executor\u001b[38;5;241m.\u001b[39mexecute(driver_command, params)\n\u001b[0;32m    443\u001b[0m \u001b[38;5;28;01mif\u001b[39;00m response:\n\u001b[1;32m--> 444\u001b[0m     \u001b[38;5;28;43mself\u001b[39;49m\u001b[38;5;241;43m.\u001b[39;49m\u001b[43merror_handler\u001b[49m\u001b[38;5;241;43m.\u001b[39;49m\u001b[43mcheck_response\u001b[49m\u001b[43m(\u001b[49m\u001b[43mresponse\u001b[49m\u001b[43m)\u001b[49m\n\u001b[0;32m    445\u001b[0m     response[\u001b[38;5;124m\"\u001b[39m\u001b[38;5;124mvalue\u001b[39m\u001b[38;5;124m\"\u001b[39m] \u001b[38;5;241m=\u001b[39m \u001b[38;5;28mself\u001b[39m\u001b[38;5;241m.\u001b[39m_unwrap_value(response\u001b[38;5;241m.\u001b[39mget(\u001b[38;5;124m\"\u001b[39m\u001b[38;5;124mvalue\u001b[39m\u001b[38;5;124m\"\u001b[39m, \u001b[38;5;28;01mNone\u001b[39;00m))\n\u001b[0;32m    446\u001b[0m     \u001b[38;5;28;01mreturn\u001b[39;00m response\n",
      "File \u001b[1;32m~\\AppData\\Local\\Programs\\Python\\Python311\\Lib\\site-packages\\selenium\\webdriver\\remote\\errorhandler.py:249\u001b[0m, in \u001b[0;36mErrorHandler.check_response\u001b[1;34m(self, response)\u001b[0m\n\u001b[0;32m    247\u001b[0m         alert_text \u001b[38;5;241m=\u001b[39m value[\u001b[38;5;124m\"\u001b[39m\u001b[38;5;124malert\u001b[39m\u001b[38;5;124m\"\u001b[39m]\u001b[38;5;241m.\u001b[39mget(\u001b[38;5;124m\"\u001b[39m\u001b[38;5;124mtext\u001b[39m\u001b[38;5;124m\"\u001b[39m)\n\u001b[0;32m    248\u001b[0m     \u001b[38;5;28;01mraise\u001b[39;00m exception_class(message, screen, stacktrace, alert_text)  \u001b[38;5;66;03m# type: ignore[call-arg]  # mypy is not smart enough here\u001b[39;00m\n\u001b[1;32m--> 249\u001b[0m \u001b[38;5;28;01mraise\u001b[39;00m exception_class(message, screen, stacktrace)\n",
      "\u001b[1;31mElementClickInterceptedException\u001b[0m: Message: element click intercepted: Element <a tabindex=\"-1\" aria-disabled=\"true\" class=\"page-link ng-star-inserted\">...</a> is not clickable at point (863, 598). Other element would receive the click: <li class=\"page-item disabled ng-star-inserted\" style=\"\">...</li>\n  (Session info: chrome=109.0.5414.75)\nStacktrace:\nBacktrace:\n\t(No symbol) [0x008CF243]\n\t(No symbol) [0x00857FD1]\n\t(No symbol) [0x0074D04D]\n\t(No symbol) [0x007828B9]\n\t(No symbol) [0x007808CC]\n\t(No symbol) [0x0077E4CB]\n\t(No symbol) [0x0077D164]\n\t(No symbol) [0x007732A6]\n\t(No symbol) [0x0079858C]\n\t(No symbol) [0x00772BFF]\n\t(No symbol) [0x00798804]\n\t(No symbol) [0x007AC9EB]\n\t(No symbol) [0x00798386]\n\t(No symbol) [0x0077163C]\n\t(No symbol) [0x0077269D]\n\tGetHandleVerifier [0x00B69A22+2655074]\n\tGetHandleVerifier [0x00B5CA24+2601828]\n\tGetHandleVerifier [0x00978C0A+619850]\n\tGetHandleVerifier [0x00977830+614768]\n\t(No symbol) [0x008605FC]\n\t(No symbol) [0x00865968]\n\t(No symbol) [0x00865A55]\n\t(No symbol) [0x0087051B]\n\tBaseThreadInitThunk [0x764D00F9+25]\n\tRtlGetAppContainerNamedObjectPath [0x77E57BBE+286]\n\tRtlGetAppContainerNamedObjectPath [0x77E57B8E+238]\n"
     ]
    }
   ],
   "source": [
    "pr = '//*[@id=\"main-content\"]/app-task/div/div/div[3]/app-pagination/div/ngb-pagination/ul/li[8]/a'\n",
    "navegador.find_element('xpath', pr).click()"
   ]
  },
  {
   "cell_type": "code",
   "execution_count": 56,
   "id": "651cf77d",
   "metadata": {},
   "outputs": [
    {
     "name": "stdout",
     "output_type": "stream",
     "text": [
      "10\n",
      "Pegando Tarefas da Pagina: 1\n",
      "25 tarefas\n",
      "fim das tarefas da pagina\n",
      "-------------------------\n",
      "indo para pagina:  2\n",
      "indice:  4\n",
      "Pegando Tarefas da Pagina: 2\n",
      "25 tarefas\n",
      "fim das tarefas da pagina\n",
      "-------------------------\n",
      "indo para pagina:  3\n",
      "indice:  5\n",
      "Pegando Tarefas da Pagina: 3\n",
      "25 tarefas\n",
      "fim das tarefas da pagina\n",
      "-------------------------\n",
      "indo para pagina:  4\n",
      "indice:  6\n",
      "Pegando Tarefas da Pagina: 4\n",
      "25 tarefas\n",
      "fim das tarefas da pagina\n",
      "-------------------------\n",
      "indo para pagina:  5\n",
      "indice:  7\n",
      "Pegando Tarefas da Pagina: 5\n",
      "25 tarefas\n",
      "fim das tarefas da pagina\n",
      "-------------------------\n",
      "indo para pagina:  6\n",
      "indice:  8\n",
      "Pegando Tarefas da Pagina: 6\n",
      "25 tarefas\n",
      "fim das tarefas da pagina\n",
      "-------------------------\n",
      "indo para pagina:  7\n",
      "indice:  9\n",
      "Pegando Tarefas da Pagina: 7\n",
      "22 tarefas\n",
      "fim das tarefas da pagina\n",
      "-------------------------\n",
      "indo para pagina:  8\n",
      "indice:  10\n",
      "Pegando Tarefas da Pagina: 8\n",
      "22 tarefas\n",
      "fim das tarefas da pagina\n",
      "-------------------------\n",
      "Pegou 194 tarefas, sendo a ultima:\n",
      "['8332 ', 'JUI.CTKCLUBEDETIRO.COM.BR - NOTIFICAÇÃO DA LOJA', 'AGUARDANDO CONCLUSÃO']\n"
     ]
    }
   ],
   "source": [
    "tarefas = navegar(quantas) ## Chama a função e guarda na variavel\n",
    "print(f\"Pegou {len(tarefas)} tarefas, sendo a ultima:\")\n",
    "print(tarefas[-1]) ## Retorna a ultima tarefa só pra conferir "
   ]
  },
  {
   "cell_type": "code",
   "execution_count": 52,
   "id": "2fa45fbf",
   "metadata": {},
   "outputs": [
    {
     "data": {
      "text/plain": [
       "194"
      ]
     },
     "execution_count": 52,
     "metadata": {},
     "output_type": "execute_result"
    }
   ],
   "source": [
    "len(tarefas)"
   ]
  },
  {
   "cell_type": "code",
   "execution_count": 57,
   "id": "fc394f9e",
   "metadata": {},
   "outputs": [],
   "source": [
    "navegador.close() ## fecha o navegador"
   ]
  },
  {
   "cell_type": "code",
   "execution_count": 58,
   "id": "f6119138",
   "metadata": {},
   "outputs": [],
   "source": [
    "import pandas as pd ## Pandas pra organizar "
   ]
  },
  {
   "cell_type": "code",
   "execution_count": 59,
   "id": "a952be5b",
   "metadata": {},
   "outputs": [
    {
     "data": {
      "text/html": [
       "<div>\n",
       "<style scoped>\n",
       "    .dataframe tbody tr th:only-of-type {\n",
       "        vertical-align: middle;\n",
       "    }\n",
       "\n",
       "    .dataframe tbody tr th {\n",
       "        vertical-align: top;\n",
       "    }\n",
       "\n",
       "    .dataframe thead th {\n",
       "        text-align: right;\n",
       "    }\n",
       "</style>\n",
       "<table border=\"1\" class=\"dataframe\">\n",
       "  <thead>\n",
       "    <tr style=\"text-align: right;\">\n",
       "      <th></th>\n",
       "      <th>id</th>\n",
       "      <th>titulo</th>\n",
       "      <th>status</th>\n",
       "    </tr>\n",
       "  </thead>\n",
       "  <tbody>\n",
       "    <tr>\n",
       "      <th>0</th>\n",
       "      <td>15562</td>\n",
       "      <td>MELHORIAS NA LISTAGEM DE TAREFAS NO SHCHAT</td>\n",
       "      <td>AGUARDANDO SPRINT</td>\n",
       "    </tr>\n",
       "    <tr>\n",
       "      <th>1</th>\n",
       "      <td>15561</td>\n",
       "      <td>LOJA.RECIFEPISTOL.COM.BR - PEDIDO NÃO APARECE ...</td>\n",
       "      <td>AGUARDANDO CONCLUSÃO</td>\n",
       "    </tr>\n",
       "    <tr>\n",
       "      <th>2</th>\n",
       "      <td>15559</td>\n",
       "      <td>CLIENTE NOVO - CBTT.ORG.BR</td>\n",
       "      <td>AGUARDANDO CONCLUSÃO</td>\n",
       "    </tr>\n",
       "    <tr>\n",
       "      <th>3</th>\n",
       "      <td>15558</td>\n",
       "      <td>ORDEM DE COMPRAS - CRUDS</td>\n",
       "      <td>AGUARDANDO SPRINT</td>\n",
       "    </tr>\n",
       "    <tr>\n",
       "      <th>4</th>\n",
       "      <td>15556</td>\n",
       "      <td>CLUBEDETIROPINHEIRO.COM.BR - APAGAR MENSALIDAD...</td>\n",
       "      <td>AGUARDANDO SPRINT</td>\n",
       "    </tr>\n",
       "    <tr>\n",
       "      <th>...</th>\n",
       "      <td>...</td>\n",
       "      <td>...</td>\n",
       "      <td>...</td>\n",
       "    </tr>\n",
       "    <tr>\n",
       "      <th>189</th>\n",
       "      <td>9917</td>\n",
       "      <td>TTIROCERTO.COM.BR - AVISO DE CONTAS A PAGAR RE...</td>\n",
       "      <td>AGUARDANDO SPRINT</td>\n",
       "    </tr>\n",
       "    <tr>\n",
       "      <th>190</th>\n",
       "      <td>9498</td>\n",
       "      <td>ISTEMA CLIENTE NOVO - REFORMULAÇÃO NO ATENDIME...</td>\n",
       "      <td>AGUARDANDO SPRINT</td>\n",
       "    </tr>\n",
       "    <tr>\n",
       "      <th>191</th>\n",
       "      <td>8878</td>\n",
       "      <td>TTF - SHOOTING SCORE - PROGRAMAR MODALIDADE 3GUN</td>\n",
       "      <td>AGUARDANDO SPRINT</td>\n",
       "    </tr>\n",
       "    <tr>\n",
       "      <th>192</th>\n",
       "      <td>8472</td>\n",
       "      <td>HOOTINGSCORE - TIFF DE AREA</td>\n",
       "      <td>AGUARDANDO SPRINT</td>\n",
       "    </tr>\n",
       "    <tr>\n",
       "      <th>193</th>\n",
       "      <td>8332</td>\n",
       "      <td>JUI.CTKCLUBEDETIRO.COM.BR - NOTIFICAÇÃO DA LOJA</td>\n",
       "      <td>AGUARDANDO CONCLUSÃO</td>\n",
       "    </tr>\n",
       "  </tbody>\n",
       "</table>\n",
       "<p>194 rows × 3 columns</p>\n",
       "</div>"
      ],
      "text/plain": [
       "        id                                             titulo  \\\n",
       "0    15562         MELHORIAS NA LISTAGEM DE TAREFAS NO SHCHAT   \n",
       "1    15561  LOJA.RECIFEPISTOL.COM.BR - PEDIDO NÃO APARECE ...   \n",
       "2    15559                         CLIENTE NOVO - CBTT.ORG.BR   \n",
       "3    15558                           ORDEM DE COMPRAS - CRUDS   \n",
       "4    15556  CLUBEDETIROPINHEIRO.COM.BR - APAGAR MENSALIDAD...   \n",
       "..     ...                                                ...   \n",
       "189  9917   TTIROCERTO.COM.BR - AVISO DE CONTAS A PAGAR RE...   \n",
       "190  9498   ISTEMA CLIENTE NOVO - REFORMULAÇÃO NO ATENDIME...   \n",
       "191  8878    TTF - SHOOTING SCORE - PROGRAMAR MODALIDADE 3GUN   \n",
       "192  8472                         HOOTINGSCORE - TIFF DE AREA   \n",
       "193  8332     JUI.CTKCLUBEDETIRO.COM.BR - NOTIFICAÇÃO DA LOJA   \n",
       "\n",
       "                   status  \n",
       "0       AGUARDANDO SPRINT  \n",
       "1    AGUARDANDO CONCLUSÃO  \n",
       "2    AGUARDANDO CONCLUSÃO  \n",
       "3       AGUARDANDO SPRINT  \n",
       "4       AGUARDANDO SPRINT  \n",
       "..                    ...  \n",
       "189     AGUARDANDO SPRINT  \n",
       "190     AGUARDANDO SPRINT  \n",
       "191     AGUARDANDO SPRINT  \n",
       "192     AGUARDANDO SPRINT  \n",
       "193  AGUARDANDO CONCLUSÃO  \n",
       "\n",
       "[194 rows x 3 columns]"
      ]
     },
     "execution_count": 59,
     "metadata": {},
     "output_type": "execute_result"
    }
   ],
   "source": [
    "df = pd.DataFrame(tarefas, columns=['id','titulo','status']) ## Cria o DF\n",
    "df "
   ]
  },
  {
   "cell_type": "code",
   "execution_count": 60,
   "id": "d72c4e41",
   "metadata": {},
   "outputs": [
    {
     "data": {
      "text/html": [
       "<div>\n",
       "<style scoped>\n",
       "    .dataframe tbody tr th:only-of-type {\n",
       "        vertical-align: middle;\n",
       "    }\n",
       "\n",
       "    .dataframe tbody tr th {\n",
       "        vertical-align: top;\n",
       "    }\n",
       "\n",
       "    .dataframe thead th {\n",
       "        text-align: right;\n",
       "    }\n",
       "</style>\n",
       "<table border=\"1\" class=\"dataframe\">\n",
       "  <thead>\n",
       "    <tr style=\"text-align: right;\">\n",
       "      <th></th>\n",
       "      <th>id</th>\n",
       "      <th>titulo</th>\n",
       "      <th>status</th>\n",
       "    </tr>\n",
       "  </thead>\n",
       "  <tbody>\n",
       "    <tr>\n",
       "      <th>21</th>\n",
       "      <td>15505</td>\n",
       "      <td>FGTP.COM.BR - CADASTROS COM A DOCUMENTAÇÃO ENT...</td>\n",
       "      <td>CONCLUIDO</td>\n",
       "    </tr>\n",
       "    <tr>\n",
       "      <th>62</th>\n",
       "      <td>15435</td>\n",
       "      <td>CLUBEDETIROCAVEIRA.COM.BR - ERRO AO GERAR DOCU...</td>\n",
       "      <td>CONCLUIDO</td>\n",
       "    </tr>\n",
       "    <tr>\n",
       "      <th>45</th>\n",
       "      <td>15465</td>\n",
       "      <td>COMBATE TIRO E CAÇA - TROCA DE MODALIDADE</td>\n",
       "      <td>CONCLUIDO</td>\n",
       "    </tr>\n",
       "    <tr>\n",
       "      <th>181</th>\n",
       "      <td>12877</td>\n",
       "      <td>ROS CAMPEONATO ONLINE</td>\n",
       "      <td>CONCLUIDO</td>\n",
       "    </tr>\n",
       "    <tr>\n",
       "      <th>104</th>\n",
       "      <td>15316</td>\n",
       "      <td>AGUALIMPA.ORG.BR - CRIAR HOMOLOGAÇÃO BOLETOS S...</td>\n",
       "      <td>CONCLUIDO</td>\n",
       "    </tr>\n",
       "    <tr>\n",
       "      <th>...</th>\n",
       "      <td>...</td>\n",
       "      <td>...</td>\n",
       "      <td>...</td>\n",
       "    </tr>\n",
       "    <tr>\n",
       "      <th>77</th>\n",
       "      <td>15410</td>\n",
       "      <td>CANCELAR CADASTRO WEB MASTER</td>\n",
       "      <td>AGUARDANDO CONCLUSÃO</td>\n",
       "    </tr>\n",
       "    <tr>\n",
       "      <th>76</th>\n",
       "      <td>15412</td>\n",
       "      <td>CANCELAMENTO WEB MASTER</td>\n",
       "      <td>AGUARDANDO CONCLUSÃO</td>\n",
       "    </tr>\n",
       "    <tr>\n",
       "      <th>74</th>\n",
       "      <td>15414</td>\n",
       "      <td>CANCELAMENTO CADASTRO WEB MASTER</td>\n",
       "      <td>AGUARDANDO CONCLUSÃO</td>\n",
       "    </tr>\n",
       "    <tr>\n",
       "      <th>73</th>\n",
       "      <td>15416</td>\n",
       "      <td>FMGTE.ORG.BR - DELETAR MENSALIDADE EM MASSA GE...</td>\n",
       "      <td>AGUARDANDO CONCLUSÃO</td>\n",
       "    </tr>\n",
       "    <tr>\n",
       "      <th>193</th>\n",
       "      <td>8332</td>\n",
       "      <td>JUI.CTKCLUBEDETIRO.COM.BR - NOTIFICAÇÃO DA LOJA</td>\n",
       "      <td>AGUARDANDO CONCLUSÃO</td>\n",
       "    </tr>\n",
       "  </tbody>\n",
       "</table>\n",
       "<p>194 rows × 3 columns</p>\n",
       "</div>"
      ],
      "text/plain": [
       "        id                                             titulo  \\\n",
       "21   15505  FGTP.COM.BR - CADASTROS COM A DOCUMENTAÇÃO ENT...   \n",
       "62   15435  CLUBEDETIROCAVEIRA.COM.BR - ERRO AO GERAR DOCU...   \n",
       "45   15465          COMBATE TIRO E CAÇA - TROCA DE MODALIDADE   \n",
       "181  12877                              ROS CAMPEONATO ONLINE   \n",
       "104  15316  AGUALIMPA.ORG.BR - CRIAR HOMOLOGAÇÃO BOLETOS S...   \n",
       "..     ...                                                ...   \n",
       "77   15410                       CANCELAR CADASTRO WEB MASTER   \n",
       "76   15412                            CANCELAMENTO WEB MASTER   \n",
       "74   15414                   CANCELAMENTO CADASTRO WEB MASTER   \n",
       "73   15416  FMGTE.ORG.BR - DELETAR MENSALIDADE EM MASSA GE...   \n",
       "193  8332     JUI.CTKCLUBEDETIRO.COM.BR - NOTIFICAÇÃO DA LOJA   \n",
       "\n",
       "                   status  \n",
       "21              CONCLUIDO  \n",
       "62              CONCLUIDO  \n",
       "45              CONCLUIDO  \n",
       "181             CONCLUIDO  \n",
       "104             CONCLUIDO  \n",
       "..                    ...  \n",
       "77   AGUARDANDO CONCLUSÃO  \n",
       "76   AGUARDANDO CONCLUSÃO  \n",
       "74   AGUARDANDO CONCLUSÃO  \n",
       "73   AGUARDANDO CONCLUSÃO  \n",
       "193  AGUARDANDO CONCLUSÃO  \n",
       "\n",
       "[194 rows x 3 columns]"
      ]
     },
     "execution_count": 60,
     "metadata": {},
     "output_type": "execute_result"
    }
   ],
   "source": [
    "df2 = df.sort_values(['status'], ascending=False) ## Cria outro DF organizado por Status \n",
    "df2"
   ]
  },
  {
   "cell_type": "code",
   "execution_count": 61,
   "id": "b0aa6a2a",
   "metadata": {},
   "outputs": [],
   "source": [
    "df2.to_excel(r'tarefas2.xlsx', sheet_name='tarefas', index=False) ## Salva em um Arquivo de Excel\n",
    "df.to_excel(r'tarefas.xlsx', sheet_name='tarefas', index=False) ## Salva em um Arquivo de Excel"
   ]
  },
  {
   "cell_type": "code",
   "execution_count": null,
   "id": "bcbc1815",
   "metadata": {},
   "outputs": [],
   "source": []
  }
 ],
 "metadata": {
  "kernelspec": {
   "display_name": "Python 3 (ipykernel)",
   "language": "python",
   "name": "python3"
  },
  "language_info": {
   "codemirror_mode": {
    "name": "ipython",
    "version": 3
   },
   "file_extension": ".py",
   "mimetype": "text/x-python",
   "name": "python",
   "nbconvert_exporter": "python",
   "pygments_lexer": "ipython3",
   "version": "3.11.0"
  }
 },
 "nbformat": 4,
 "nbformat_minor": 5
}
